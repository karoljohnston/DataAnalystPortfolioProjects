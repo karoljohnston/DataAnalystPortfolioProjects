{
 "cells": [
  {
   "cell_type": "code",
   "execution_count": 51,
   "id": "a13a698a",
   "metadata": {},
   "outputs": [],
   "source": [
    "# importing libraries\n",
    "\n",
    "from bs4 import BeautifulSoup\n",
    "import requests\n",
    "import smtplib\n",
    "import time\n",
    "import datetime"
   ]
  },
  {
   "cell_type": "code",
   "execution_count": 52,
   "id": "115e0855",
   "metadata": {},
   "outputs": [
    {
     "name": "stdout",
     "output_type": "stream",
     "text": [
      "\n",
      "            Livingtex 1 Piece Colorful Bath Towel Set 27x56 Ultra Absorbent and Eco-Friendly (Red)\n",
      "           \n",
      "\n",
      "\n",
      "                                   $19.99\n",
      "                                  \n",
      "\n",
      "\n",
      "\n",
      "\n",
      "                                    19\n",
      "                                    \n",
      "                                     .\n",
      "                                    \n",
      "\n",
      "\n",
      "                                    99\n",
      "                                   \n",
      "\n",
      "\n"
     ]
    }
   ],
   "source": [
    "#connect to the website\n",
    "\n",
    "URL = \"https://www.amazon.com/dp/B08TBJSVP1/ref=sspa_dk_detail_0?psc=1&pd_rd_i=B08TBJSVP1&pd_rd_w=zP4J2&content-id=amzn1.sym.dd2c6db7-6626-466d-bf04-9570e69a7df0&pf_rd_p=dd2c6db7-6626-466d-bf04-9570e69a7df0&pf_rd_r=CP0NX0WSVDPEGQYPZDHR&pd_rd_wg=aaVng&pd_rd_r=793ab781-d0b5-4f55-b9e0-2f2ff081ea04&s=kitchen&sp_csd=d2lkZ2V0TmFtZT1zcF9kZXRhaWxfdGhlbWF0aWM&spLa=ZW5jcnlwdGVkUXVhbGlmaWVyPUFDWU5aSzRJQTQyQU0mZW5jcnlwdGVkSWQ9QTA4OTQ2MjJGTU5HN1o0RlVNRkEmZW5jcnlwdGVkQWRJZD1BMDYzNjEyODZKUldVWkVFV1hLNyZ3aWRnZXROYW1lPXNwX2RldGFpbF90aGVtYXRpYyZhY3Rpb249Y2xpY2tSZWRpcmVjdCZkb05vdExvZ0NsaWNrPXRydWU=\"\n",
    "headers =  {\"User-Agent\": \"Mozilla/5.0 (Windows NT 10.0; Win64; x64) AppleWebKit/537.36 (KHTML, like Gecko) Chrome/78.0.3904.108 Safari/537.36\", \"Accept-Encoding\":\"gzip, deflate\", \"Accept\":\"text/html,application/xhtml+xml,application/xml;q=0.9,*/*;q=0.8\", \"DNT\":\"1\",\"Connection\":\"close\", \"Upgrade-Insecure-Requests\":\"1\"}\n",
    "\n",
    "page = requests.get(URL, headers=headers)\n",
    "\n",
    "Soup1 = BeautifulSoup(page.content, \"html.parser\")\n",
    "\n",
    "Soup2 = BeautifulSoup(Soup1.prettify(), 'html.parser')\n",
    "\n",
    "#print(Soup2)\n",
    "\n",
    "title = Soup2.find(id='productTitle').get_text()\n",
    "\n",
    "print(title)\n",
    "\n",
    "price= Soup2.find(id='tp_price_block_total_price_ww').get_text()\n",
    "\n",
    "print(price)"
   ]
  },
  {
   "cell_type": "code",
   "execution_count": 53,
   "id": "ce48f49f",
   "metadata": {},
   "outputs": [
    {
     "name": "stdout",
     "output_type": "stream",
     "text": [
      "Livingtex 1 Piece Colorful Bath Towel Set 27x56 Ultra Absorbent and Eco-Friendly (Red)\n",
      "\n",
      "\n",
      "                                   $19.99\n",
      "                                  \n",
      "\n",
      "\n",
      "\n",
      "\n",
      "                                    19\n",
      "                                    \n",
      "                                     .\n",
      "                                    \n",
      "\n",
      "\n",
      "                                    99\n",
      "                                   \n",
      "\n",
      "\n"
     ]
    },
    {
     "data": {
      "text/plain": [
       "str"
      ]
     },
     "execution_count": 53,
     "metadata": {},
     "output_type": "execute_result"
    }
   ],
   "source": [
    "price.strip()[1:]\n",
    "title = title.strip()\n",
    "\n",
    "print(title)\n",
    "print(price)\n",
    "type(price)"
   ]
  },
  {
   "cell_type": "code",
   "execution_count": 34,
   "id": "e250d542",
   "metadata": {},
   "outputs": [],
   "source": []
  },
  {
   "cell_type": "code",
   "execution_count": 54,
   "id": "eff641aa",
   "metadata": {},
   "outputs": [
    {
     "name": "stdout",
     "output_type": "stream",
     "text": [
      "2023-02-21\n"
     ]
    }
   ],
   "source": [
    "import datetime\n",
    "\n",
    "today = datetime.date.today()\n",
    "\n",
    "print(today)"
   ]
  },
  {
   "cell_type": "code",
   "execution_count": null,
   "id": "a91cc18c",
   "metadata": {},
   "outputs": [],
   "source": [
    "\n",
    "import csv\n",
    "\n",
    "header = ['Title', 'Price','Date']\n",
    "data = [title, price,today]\n",
    "\n",
    "type(data)"
   ]
  },
  {
   "cell_type": "code",
   "execution_count": 58,
   "id": "fbcb5155",
   "metadata": {},
   "outputs": [
    {
     "name": "stdout",
     "output_type": "stream",
     "text": [
      "Empty DataFrame\n",
      "Columns: [Livingtex 1 Piece Colorful Bath Towel Set 27x56 Ultra Absorbent and Eco-Friendly (Red), \n",
      "\n",
      "                                   $19.99\n",
      "                                  \n",
      "\n",
      "\n",
      "\n",
      "\n",
      "                                    19\n",
      "                                    \n",
      "                                     .\n",
      "                                    \n",
      "\n",
      "\n",
      "                                    99\n",
      "                                   \n",
      "\n",
      ", 2023-02-21]\n",
      "Index: []\n"
     ]
    }
   ],
   "source": [
    "import pandas as pd\n",
    "\n",
    "df = pd.read_csv(r'C:\\Users\\giane\\AmazonWebScraperDataset.csv')\n",
    "\n",
    "print(df)"
   ]
  },
  {
   "cell_type": "code",
   "execution_count": 57,
   "id": "1f58d3f4",
   "metadata": {},
   "outputs": [],
   "source": [
    "#appending data to the csv\n",
    "\n",
    "with open('AmazonWebScraperDataset.csv', 'a+', newline='', encoding=\"UTF8\") as f:\n",
    "    writer = csv.writer(f)\n",
    "    writer.writerow(data)"
   ]
  },
  {
   "cell_type": "code",
   "execution_count": 61,
   "id": "11c1d409",
   "metadata": {},
   "outputs": [],
   "source": [
    "\n",
    "#Combine all of the above code into one function\n",
    "\n",
    "def check_price():\n",
    "\n",
    "    #connect to the website\n",
    "\n",
    "    URL = \"https://www.amazon.com/dp/B08TBJSVP1/ref=sspa_dk_detail_0?psc=1&pd_rd_i=B08TBJSVP1&pd_rd_w=zP4J2&content-id=amzn1.sym.dd2c6db7-6626-466d-bf04-9570e69a7df0&pf_rd_p=dd2c6db7-6626-466d-bf04-9570e69a7df0&pf_rd_r=CP0NX0WSVDPEGQYPZDHR&pd_rd_wg=aaVng&pd_rd_r=793ab781-d0b5-4f55-b9e0-2f2ff081ea04&s=kitchen&sp_csd=d2lkZ2V0TmFtZT1zcF9kZXRhaWxfdGhlbWF0aWM&spLa=ZW5jcnlwdGVkUXVhbGlmaWVyPUFDWU5aSzRJQTQyQU0mZW5jcnlwdGVkSWQ9QTA4OTQ2MjJGTU5HN1o0RlVNRkEmZW5jcnlwdGVkQWRJZD1BMDYzNjEyODZKUldVWkVFV1hLNyZ3aWRnZXROYW1lPXNwX2RldGFpbF90aGVtYXRpYyZhY3Rpb249Y2xpY2tSZWRpcmVjdCZkb05vdExvZ0NsaWNrPXRydWU=\"\n",
    "    headers =  {\"User-Agent\": \"Mozilla/5.0 (Windows NT 10.0; Win64; x64) AppleWebKit/537.36 (KHTML, like Gecko) Chrome/78.0.3904.108 Safari/537.36\", \"Accept-Encoding\":\"gzip, deflate\", \"Accept\":\"text/html,application/xhtml+xml,application/xml;q=0.9,*/*;q=0.8\", \"DNT\":\"1\",\"Connection\":\"close\", \"Upgrade-Insecure-Requests\":\"1\"}\n",
    "\n",
    "    page = requests.get(URL, headers=headers)\n",
    "\n",
    "    Soup1 = BeautifulSoup(page.content, \"html.parser\")\n",
    "\n",
    "    Soup2 = BeautifulSoup(Soup1.prettify(), 'html.parser')\n",
    "\n",
    "    #print(Soup2)\n",
    "\n",
    "    title = Soup2.find(id='productTitle').get_text()\n",
    "\n",
    "   # print(title)\n",
    "\n",
    "    price= Soup2.find(id='tp_price_block_total_price_ww').get_text()\n",
    "\n",
    "   # print(price)\n",
    "    \n",
    "    price.strip()[1:]\n",
    "    title = title.strip()\n",
    "\n",
    "    #print(title)\n",
    "    #print(price)\n",
    "    #type(price)\n",
    "    \n",
    "    import datetime\n",
    "\n",
    "    today = datetime.date.today()\n",
    "\n",
    "   # print(today)\n",
    "    \n",
    "    import csv\n",
    "\n",
    "    header = ['Title', 'Price','Date']\n",
    "    data = [title, price,today]\n",
    "\n",
    "    type(data)"
   ]
  },
  {
   "cell_type": "code",
   "execution_count": null,
   "id": "668131a5",
   "metadata": {},
   "outputs": [],
   "source": [
    "while(True):\n",
    "        check_price()\n",
    "        time.sleep(86400)"
   ]
  },
  {
   "cell_type": "code",
   "execution_count": null,
   "id": "767a0885",
   "metadata": {},
   "outputs": [],
   "source": [
    "import pandas as pd\n",
    "\n",
    "df = pd.read_csv(r'C:\\Users\\giane\\AmazonWebScraperDataset.csv')\n",
    "\n",
    "print(df)"
   ]
  },
  {
   "cell_type": "code",
   "execution_count": null,
   "id": "177b1c41",
   "metadata": {},
   "outputs": [],
   "source": []
  }
 ],
 "metadata": {
  "kernelspec": {
   "display_name": "Python 3 (ipykernel)",
   "language": "python",
   "name": "python3"
  },
  "language_info": {
   "codemirror_mode": {
    "name": "ipython",
    "version": 3
   },
   "file_extension": ".py",
   "mimetype": "text/x-python",
   "name": "python",
   "nbconvert_exporter": "python",
   "pygments_lexer": "ipython3",
   "version": "3.9.13"
  }
 },
 "nbformat": 4,
 "nbformat_minor": 5
}
